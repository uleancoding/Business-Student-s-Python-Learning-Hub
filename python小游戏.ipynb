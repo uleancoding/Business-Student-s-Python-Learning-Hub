{
 "cells": [
  {
   "cell_type": "markdown",
   "id": "d6bd3fb9",
   "metadata": {},
   "source": [
    "1.python小游戏：猜数字游戏"
   ]
  },
  {
   "cell_type": "code",
   "execution_count": 1,
   "id": "172b7b19",
   "metadata": {},
   "outputs": [
    {
     "name": "stdout",
     "output_type": "stream",
     "text": [
      "欢 迎 来 到 猜 数 字 游 戏！ \n",
      "我 想 了 一 个 1 到 100 之 间 的 数 字， 你 能 猜 中 吗？ \n",
      "太 小 了！ 再 试 一 次。 \n",
      "太 小 了！ 再 试 一 次。 \n",
      "太 大 了！ 再 试 一 次。 \n",
      "太 小 了！ 再 试 一 次。 \n",
      "太 小 了！ 再 试 一 次。 \n",
      "太 大 了！ 再 试 一 次。 \n",
      "太 大 了！ 再 试 一 次。 \n",
      "恭 喜 你 猜 中 了！ 这 个 数 字 是 66。 你 总 共 猜 了 8 次。 \n"
     ]
    }
   ],
   "source": [
    "import random\n",
    "\n",
    "# 游 戏 初 始 化\n",
    "number = random.randint(1, 100) # 生 成 1 到 100 的 随 机 数\n",
    "attempts = 0\n",
    "\n",
    "print(\"欢 迎 来 到 猜 数 字 游 戏！ \")\n",
    "print(\"我 想 了 一 个 1 到 100 之 间 的 数 字， 你 能 猜 中 吗？ \")\n",
    "\n",
    "# 游 戏 主 循 环\n",
    "while True:\n",
    "    guess = int(input(\"请 输 入 你 的 猜 测： \"))\n",
    "    attempts += 1\n",
    "    if guess < number:\n",
    "        print(\"太 小 了！ 再 试 一 次。 \")\n",
    "    elif guess > number:\n",
    "        print(\"太 大 了！ 再 试 一 次。 \")\n",
    "    else:\n",
    "        print(f\"恭 喜 你 猜 中 了！ 这 个 数 字 是 {number}。 你 总 共 猜 了 {attempts} 次。 \")\n",
    "        break"
   ]
  },
  {
   "cell_type": "markdown",
   "id": "854f1469",
   "metadata": {},
   "source": [
    "游戏2：一年级小朋友的数学测试\n",
    "编写一个简单的数学测验游戏，使用 Python 语言。程序应包含以下功能：\n",
    "程序启动时，欢迎用户并说明游戏规则：用户需要回答 5 道随机生成的加法问题，\n",
    "每题涉及两个 0 到 20 之间的整数。问题生成与回答：程序随机生成两个 0 到 20 之间的整数，并显示给用户。用户输入这两个数的和作为答案。程序判断用户的答案是否正确：如果正确，打印“回答正确！”，并记录一次得分。如果错误，打印“回答错误！正确答案是 X”。游戏结束与得分显示：在用户回答完 5 道问题后，程序显示用户的总得分。也请适当改进游戏，让它更好玩吧。"
   ]
  },
  {
   "cell_type": "code",
   "execution_count": 2,
   "id": "bffb6d37",
   "metadata": {},
   "outputs": [
    {
     "name": "stdout",
     "output_type": "stream",
     "text": [
      "欢迎来到一年级数学测验游戏！\n",
      "规则很简单：你需要回答 5 道随机生成的加法问题，每个问题涉及两个 0 到 20 之间的整数。\n",
      "让我们开始吧！\n",
      "问题：4 + 7 = ?\n",
      "回答错误！正确答案是 11。\n",
      "问题：2 + 19 = ?\n",
      "回答正确！\n",
      "问题：20 + 3 = ?\n",
      "回答正确！\n",
      "问题：2 + 3 = ?\n",
      "回答正确！\n",
      "问题：17 + 5 = ?\n",
      "回答正确！\n",
      "游戏结束！你的总得分是 4 / 5。\n",
      "做得不错！继续保持！\n"
     ]
    }
   ],
   "source": [
    "import random\n",
    "\n",
    "def welcome():\n",
    "    print(\"欢迎来到一年级数学测验游戏！\")\n",
    "    print(\"规则很简单：你需要回答 5 道随机生成的加法问题，每个问题涉及两个 0 到 20 之间的整数。\")\n",
    "    print(\"让我们开始吧！\")\n",
    "\n",
    "def generate_question():\n",
    "    num1 = random.randint(0, 20)\n",
    "    num2 = random.randint(0, 20)\n",
    "    return num1, num2\n",
    "\n",
    "def check_answer(user_answer, correct_answer):\n",
    "    if user_answer == correct_answer:\n",
    "        print(\"回答正确！\")\n",
    "        return True\n",
    "    else:\n",
    "        print(f\"回答错误！正确答案是 {correct_answer}。\")\n",
    "        return False\n",
    "\n",
    "def main():\n",
    "    welcome()\n",
    "    score = 0\n",
    "    total_questions = 5\n",
    "    \n",
    "    for _ in range(total_questions):\n",
    "        num1, num2 = generate_question()\n",
    "        print(f\"问题：{num1} + {num2} = ?\")\n",
    "        try:\n",
    "            user_answer = int(input(\"请输入你的答案：\"))\n",
    "            if check_answer(user_answer, num1 + num2):\n",
    "                score += 1\n",
    "        except ValueError:\n",
    "            print(\"请输入一个有效的整数答案。\")\n",
    "    \n",
    "    print(f\"游戏结束！你的总得分是 {score} / {total_questions}。\")\n",
    "    \n",
    "    if score == total_questions:\n",
    "        print(\"太棒了！你全对了！你是数学小天才！\")\n",
    "    elif score >= total_questions / 2:\n",
    "        print(\"做得不错！继续保持！\")\n",
    "    else:\n",
    "        print(\"不要灰心，再试一次！\")\n",
    "\n",
    "if __name__ == \"__main__\":\n",
    "    main()\n"
   ]
  }
 ],
 "metadata": {
  "kernelspec": {
   "display_name": "base",
   "language": "python",
   "name": "python3"
  },
  "language_info": {
   "codemirror_mode": {
    "name": "ipython",
    "version": 3
   },
   "file_extension": ".py",
   "mimetype": "text/x-python",
   "name": "python",
   "nbconvert_exporter": "python",
   "pygments_lexer": "ipython3",
   "version": "3.10.9"
  }
 },
 "nbformat": 4,
 "nbformat_minor": 5
}
